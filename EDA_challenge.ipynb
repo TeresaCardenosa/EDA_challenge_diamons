{
 "cells": [
  {
   "cell_type": "code",
   "execution_count": 1,
   "id": "328126e9",
   "metadata": {},
   "outputs": [],
   "source": [
    "# librerías\n",
    "\n",
    "import pandas as pd\n",
    "import numpy as np\n",
    "import wquantiles                   \n",
    "\n",
    "import matplotlib.pylab as plt\n",
    "import seaborn as sns"
   ]
  },
  {
   "cell_type": "markdown",
   "id": "575208c9",
   "metadata": {},
   "source": [
    "# Datos"
   ]
  },
  {
   "cell_type": "code",
   "execution_count": 2,
   "id": "0224eeb6",
   "metadata": {},
   "outputs": [
    {
     "name": "stdout",
     "output_type": "stream",
     "text": [
      "<class 'pandas.core.frame.DataFrame'>\n",
      "RangeIndex: 13 entries, 0 to 12\n",
      "Data columns (total 2 columns):\n",
      " #   Column   Non-Null Count  Dtype \n",
      "---  ------   --------------  ----- \n",
      " 0   city_id  13 non-null     object\n",
      " 1   city     13 non-null     object\n",
      "dtypes: object(2)\n",
      "memory usage: 336.0+ bytes\n"
     ]
    },
    {
     "data": {
      "text/plain": [
       "'\\nDataframe de 12 rows y 2 columns: city_id (str) y city (str)\\n'"
      ]
     },
     "execution_count": 2,
     "metadata": {},
     "output_type": "execute_result"
    }
   ],
   "source": [
    "# diamons_city\n",
    "city = pd.read_csv('./data/diamonds_city.csv')\n",
    "city.info()\n",
    "\n",
    "'''\n",
    "Dataframe de 12 rows y 2 columns: city_id (str) y city (str)\n",
    "'''"
   ]
  },
  {
   "cell_type": "code",
   "execution_count": 3,
   "id": "23f5389d",
   "metadata": {},
   "outputs": [
    {
     "name": "stdout",
     "output_type": "stream",
     "text": [
      "<class 'pandas.core.frame.DataFrame'>\n",
      "RangeIndex: 8 entries, 0 to 7\n",
      "Data columns (total 2 columns):\n",
      " #   Column      Non-Null Count  Dtype \n",
      "---  ------      --------------  ----- \n",
      " 0   clarity_id  8 non-null      object\n",
      " 1   clarity     8 non-null      object\n",
      "dtypes: object(2)\n",
      "memory usage: 256.0+ bytes\n"
     ]
    },
    {
     "data": {
      "text/plain": [
       "'\\nDataframe de 7 rows y 2 columns: clarity_id (str) y clarity (str)\\n'"
      ]
     },
     "execution_count": 3,
     "metadata": {},
     "output_type": "execute_result"
    }
   ],
   "source": [
    "# diamons_clarity\n",
    "clarity = pd.read_csv('./data/diamonds_clarity.csv')\n",
    "clarity.info()\n",
    "\n",
    "'''\n",
    "Dataframe de 7 rows y 2 columns: clarity_id (str) y clarity (str)\n",
    "'''"
   ]
  },
  {
   "cell_type": "code",
   "execution_count": 4,
   "id": "9b59531d",
   "metadata": {},
   "outputs": [
    {
     "name": "stdout",
     "output_type": "stream",
     "text": [
      "<class 'pandas.core.frame.DataFrame'>\n",
      "RangeIndex: 7 entries, 0 to 6\n",
      "Data columns (total 2 columns):\n",
      " #   Column    Non-Null Count  Dtype \n",
      "---  ------    --------------  ----- \n",
      " 0   color_id  7 non-null      object\n",
      " 1   color     7 non-null      object\n",
      "dtypes: object(2)\n",
      "memory usage: 240.0+ bytes\n"
     ]
    },
    {
     "data": {
      "text/plain": [
       "'\\nDataframe de 7 rows y 2 columns: color_id (str) y color (str)\\n'"
      ]
     },
     "execution_count": 4,
     "metadata": {},
     "output_type": "execute_result"
    }
   ],
   "source": [
    "# diamons_color\n",
    "color = pd.read_csv('./data/diamonds_color.csv')\n",
    "color.info()\n",
    "\n",
    "\n",
    "'''\n",
    "Dataframe de 7 rows y 2 columns: color_id (str) y color (str)\n",
    "'''"
   ]
  },
  {
   "cell_type": "code",
   "execution_count": 5,
   "id": "47331440",
   "metadata": {},
   "outputs": [
    {
     "name": "stdout",
     "output_type": "stream",
     "text": [
      "<class 'pandas.core.frame.DataFrame'>\n",
      "RangeIndex: 5 entries, 0 to 4\n",
      "Data columns (total 2 columns):\n",
      " #   Column  Non-Null Count  Dtype \n",
      "---  ------  --------------  ----- \n",
      " 0   cut_id  5 non-null      object\n",
      " 1   cut     5 non-null      object\n",
      "dtypes: object(2)\n",
      "memory usage: 208.0+ bytes\n"
     ]
    },
    {
     "data": {
      "text/plain": [
       "'\\nDataframe de 5 rows y 2 columns: cut_id (str) y cut (str)\\n'"
      ]
     },
     "execution_count": 5,
     "metadata": {},
     "output_type": "execute_result"
    }
   ],
   "source": [
    "# diamons_cut\n",
    "cut = pd.read_csv('./data/diamonds_cut.csv')\n",
    "cut.info()\n",
    "\n",
    "'''\n",
    "Dataframe de 5 rows y 2 columns: cut_id (str) y cut (str)\n",
    "'''"
   ]
  },
  {
   "cell_type": "code",
   "execution_count": 6,
   "id": "96fc4fed",
   "metadata": {},
   "outputs": [
    {
     "name": "stdout",
     "output_type": "stream",
     "text": [
      "<class 'pandas.core.frame.DataFrame'>\n",
      "RangeIndex: 40455 entries, 0 to 40454\n",
      "Data columns (total 6 columns):\n",
      " #   Column    Non-Null Count  Dtype  \n",
      "---  ------    --------------  -----  \n",
      " 0   index_id  40455 non-null  object \n",
      " 1   depth     40455 non-null  float64\n",
      " 2   table     40455 non-null  float64\n",
      " 3   x         40455 non-null  float64\n",
      " 4   y         40455 non-null  float64\n",
      " 5   z         40455 non-null  float64\n",
      "dtypes: float64(5), object(1)\n",
      "memory usage: 1.9+ MB\n"
     ]
    },
    {
     "data": {
      "text/plain": [
       "'\\nDataframe de 40.455 rows y 5 columns: index_id (str), depth, table, x, y, z (todas float)\\n'"
      ]
     },
     "execution_count": 6,
     "metadata": {},
     "output_type": "execute_result"
    }
   ],
   "source": [
    "# diamons_dimensions\n",
    "dimensions = pd.read_csv('./data/diamonds_dimensions.csv')\n",
    "dimensions.info()\n",
    "\n",
    "'''\n",
    "Dataframe de 40.455 rows y 5 columns: index_id (str), depth, table, x, y, z (todas float)\n",
    "'''"
   ]
  },
  {
   "cell_type": "code",
   "execution_count": 7,
   "id": "137eee72",
   "metadata": {},
   "outputs": [
    {
     "name": "stdout",
     "output_type": "stream",
     "text": [
      "<class 'pandas.core.frame.DataFrame'>\n",
      "RangeIndex: 40455 entries, 0 to 40454\n",
      "Data columns (total 4 columns):\n",
      " #   Column      Non-Null Count  Dtype \n",
      "---  ------      --------------  ----- \n",
      " 0   index_id    40455 non-null  object\n",
      " 1   cut_id      40455 non-null  object\n",
      " 2   color_id    40455 non-null  object\n",
      " 3   clarity_id  40455 non-null  object\n",
      "dtypes: object(4)\n",
      "memory usage: 1.2+ MB\n"
     ]
    },
    {
     "data": {
      "text/plain": [
       "'\\nDataframe de 40.455 rows y 4 columns: index_id, cut_id, color_id, clarity_id (todas str) >>> AQUÍ ESTÁN LOS DATOS EN COMÚN\\n'"
      ]
     },
     "execution_count": 7,
     "metadata": {},
     "output_type": "execute_result"
    }
   ],
   "source": [
    "# diamons_properties\n",
    "properties = pd.read_csv('./data/diamonds_properties.csv')\n",
    "properties.info()\n",
    "\n",
    "'''\n",
    "Dataframe de 40.455 rows y 4 columns: index_id, cut_id, color_id, clarity_id (todas str) >>> AQUÍ ESTÁN LOS DATOS EN COMÚN\n",
    "'''"
   ]
  },
  {
   "cell_type": "code",
   "execution_count": 10,
   "id": "defdfd72",
   "metadata": {},
   "outputs": [
    {
     "name": "stdout",
     "output_type": "stream",
     "text": [
      "<class 'pandas.core.frame.DataFrame'>\n",
      "RangeIndex: 40455 entries, 0 to 40454\n",
      "Data columns (total 4 columns):\n",
      " #   Column    Non-Null Count  Dtype  \n",
      "---  ------    --------------  -----  \n",
      " 0   index_id  40455 non-null  object \n",
      " 1   price     40455 non-null  int64  \n",
      " 2   city_id   40455 non-null  object \n",
      " 3   carat     40455 non-null  float64\n",
      "dtypes: float64(1), int64(1), object(2)\n",
      "memory usage: 1.2+ MB\n"
     ]
    },
    {
     "data": {
      "text/plain": [
       "'\\nDataframe de 40.455 rows y 4 columns: index_id (str), price (int), city_id (str), carat (float)\\n'"
      ]
     },
     "execution_count": 10,
     "metadata": {},
     "output_type": "execute_result"
    }
   ],
   "source": [
    "# diamons_transactional\n",
    "transactional = pd.read_csv('./data/diamonds_transactional.csv')\n",
    "transactional.info()\n",
    "\n",
    "'''\n",
    "Dataframe de 40.455 rows y 4 columns: index_id (str), price (int), city_id (str), carat (float)\n",
    "'''"
   ]
  },
  {
   "cell_type": "markdown",
   "id": "3249279f",
   "metadata": {},
   "source": [
    "## Qué tenemos\n",
    "- 7 dataframes donde está toda la información\n",
    "- Properties tiene las columnas en común de index_id, cut_id, color_id, clarity_id\n",
    "    - Con ello se puede unir a clarity por clarity_id\n",
    "    - Unir a color por color_id\n",
    "    - Unir a cut por cut_id\n",
    "    - Unir a dimensions por index_id\n",
    "    - Unir a transactional por index_id\n",
    "- Por otro lado, transactional tiene la colum city_id para unir a city >>> HACER ESTE PASO PRIMERO\n",
    "    "
   ]
  },
  {
   "cell_type": "code",
   "execution_count": 11,
   "id": "8d0f9d43",
   "metadata": {},
   "outputs": [
    {
     "data": {
      "text/html": [
       "<div>\n",
       "<style scoped>\n",
       "    .dataframe tbody tr th:only-of-type {\n",
       "        vertical-align: middle;\n",
       "    }\n",
       "\n",
       "    .dataframe tbody tr th {\n",
       "        vertical-align: top;\n",
       "    }\n",
       "\n",
       "    .dataframe thead th {\n",
       "        text-align: right;\n",
       "    }\n",
       "</style>\n",
       "<table border=\"1\" class=\"dataframe\">\n",
       "  <thead>\n",
       "    <tr style=\"text-align: right;\">\n",
       "      <th></th>\n",
       "      <th>index_id</th>\n",
       "      <th>price</th>\n",
       "      <th>city_id</th>\n",
       "      <th>carat</th>\n",
       "      <th>city</th>\n",
       "    </tr>\n",
       "  </thead>\n",
       "  <tbody>\n",
       "    <tr>\n",
       "      <th>0</th>\n",
       "      <td>5feceb66ffc86f38d952786c6d696c79c2dbc239dd4e91...</td>\n",
       "      <td>4268</td>\n",
       "      <td>89c7286890f7347ab235234e74d406596a127ae3679042...</td>\n",
       "      <td>1.21</td>\n",
       "      <td>Kimberly</td>\n",
       "    </tr>\n",
       "    <tr>\n",
       "      <th>1</th>\n",
       "      <td>4fc82b26aecb47d2868c4efbe3581732a3e7cbcc6c2efb...</td>\n",
       "      <td>4284</td>\n",
       "      <td>89c7286890f7347ab235234e74d406596a127ae3679042...</td>\n",
       "      <td>1.02</td>\n",
       "      <td>Kimberly</td>\n",
       "    </tr>\n",
       "    <tr>\n",
       "      <th>2</th>\n",
       "      <td>e629fa6598d732768f7c726b4b621285f9c3b85303900a...</td>\n",
       "      <td>6006</td>\n",
       "      <td>89c7286890f7347ab235234e74d406596a127ae3679042...</td>\n",
       "      <td>1.50</td>\n",
       "      <td>Kimberly</td>\n",
       "    </tr>\n",
       "    <tr>\n",
       "      <th>3</th>\n",
       "      <td>4523540f1504cd17100c4835e85b7eefd49911580f8eff...</td>\n",
       "      <td>983</td>\n",
       "      <td>89c7286890f7347ab235234e74d406596a127ae3679042...</td>\n",
       "      <td>0.38</td>\n",
       "      <td>Kimberly</td>\n",
       "    </tr>\n",
       "    <tr>\n",
       "      <th>4</th>\n",
       "      <td>9400f1b21cb527d7fa3d3eabba93557a18ebe7a2ca4e47...</td>\n",
       "      <td>11078</td>\n",
       "      <td>89c7286890f7347ab235234e74d406596a127ae3679042...</td>\n",
       "      <td>1.53</td>\n",
       "      <td>Kimberly</td>\n",
       "    </tr>\n",
       "    <tr>\n",
       "      <th>...</th>\n",
       "      <td>...</td>\n",
       "      <td>...</td>\n",
       "      <td>...</td>\n",
       "      <td>...</td>\n",
       "      <td>...</td>\n",
       "    </tr>\n",
       "    <tr>\n",
       "      <th>40450</th>\n",
       "      <td>f4669b5848b66564f2317866860f9334ac63f29de3ed45...</td>\n",
       "      <td>921</td>\n",
       "      <td>5dd272b4f316b776a7b8e3d0894b37e1e42be3d5d3b204...</td>\n",
       "      <td>0.42</td>\n",
       "      <td>Paris</td>\n",
       "    </tr>\n",
       "    <tr>\n",
       "      <th>40451</th>\n",
       "      <td>9185c0199efc6aea5b4a97414cd297ead29ad55edec2a7...</td>\n",
       "      <td>540</td>\n",
       "      <td>5dd272b4f316b776a7b8e3d0894b37e1e42be3d5d3b204...</td>\n",
       "      <td>0.30</td>\n",
       "      <td>Paris</td>\n",
       "    </tr>\n",
       "    <tr>\n",
       "      <th>40452</th>\n",
       "      <td>fbed8c8d9adc6a3004f597f06166a4b2f4ad8ad948ee87...</td>\n",
       "      <td>7092</td>\n",
       "      <td>5dd272b4f316b776a7b8e3d0894b37e1e42be3d5d3b204...</td>\n",
       "      <td>1.24</td>\n",
       "      <td>Paris</td>\n",
       "    </tr>\n",
       "    <tr>\n",
       "      <th>40453</th>\n",
       "      <td>1726e8e229489b353e6007fac1dfffb5300a96bf6166cf...</td>\n",
       "      <td>3710</td>\n",
       "      <td>5dd272b4f316b776a7b8e3d0894b37e1e42be3d5d3b204...</td>\n",
       "      <td>0.71</td>\n",
       "      <td>Paris</td>\n",
       "    </tr>\n",
       "    <tr>\n",
       "      <th>40454</th>\n",
       "      <td>9d733392d362d5c6f1d9b9659b601c7d4b5a1c1c8df579...</td>\n",
       "      <td>456</td>\n",
       "      <td>5dd272b4f316b776a7b8e3d0894b37e1e42be3d5d3b204...</td>\n",
       "      <td>0.33</td>\n",
       "      <td>Paris</td>\n",
       "    </tr>\n",
       "  </tbody>\n",
       "</table>\n",
       "<p>40455 rows × 5 columns</p>\n",
       "</div>"
      ],
      "text/plain": [
       "                                                index_id  price  \\\n",
       "0      5feceb66ffc86f38d952786c6d696c79c2dbc239dd4e91...   4268   \n",
       "1      4fc82b26aecb47d2868c4efbe3581732a3e7cbcc6c2efb...   4284   \n",
       "2      e629fa6598d732768f7c726b4b621285f9c3b85303900a...   6006   \n",
       "3      4523540f1504cd17100c4835e85b7eefd49911580f8eff...    983   \n",
       "4      9400f1b21cb527d7fa3d3eabba93557a18ebe7a2ca4e47...  11078   \n",
       "...                                                  ...    ...   \n",
       "40450  f4669b5848b66564f2317866860f9334ac63f29de3ed45...    921   \n",
       "40451  9185c0199efc6aea5b4a97414cd297ead29ad55edec2a7...    540   \n",
       "40452  fbed8c8d9adc6a3004f597f06166a4b2f4ad8ad948ee87...   7092   \n",
       "40453  1726e8e229489b353e6007fac1dfffb5300a96bf6166cf...   3710   \n",
       "40454  9d733392d362d5c6f1d9b9659b601c7d4b5a1c1c8df579...    456   \n",
       "\n",
       "                                                 city_id  carat      city  \n",
       "0      89c7286890f7347ab235234e74d406596a127ae3679042...   1.21  Kimberly  \n",
       "1      89c7286890f7347ab235234e74d406596a127ae3679042...   1.02  Kimberly  \n",
       "2      89c7286890f7347ab235234e74d406596a127ae3679042...   1.50  Kimberly  \n",
       "3      89c7286890f7347ab235234e74d406596a127ae3679042...   0.38  Kimberly  \n",
       "4      89c7286890f7347ab235234e74d406596a127ae3679042...   1.53  Kimberly  \n",
       "...                                                  ...    ...       ...  \n",
       "40450  5dd272b4f316b776a7b8e3d0894b37e1e42be3d5d3b204...   0.42     Paris  \n",
       "40451  5dd272b4f316b776a7b8e3d0894b37e1e42be3d5d3b204...   0.30     Paris  \n",
       "40452  5dd272b4f316b776a7b8e3d0894b37e1e42be3d5d3b204...   1.24     Paris  \n",
       "40453  5dd272b4f316b776a7b8e3d0894b37e1e42be3d5d3b204...   0.71     Paris  \n",
       "40454  5dd272b4f316b776a7b8e3d0894b37e1e42be3d5d3b204...   0.33     Paris  \n",
       "\n",
       "[40455 rows x 5 columns]"
      ]
     },
     "execution_count": 11,
     "metadata": {},
     "output_type": "execute_result"
    }
   ],
   "source": [
    "tc = pd.merge(transactional, city)\n",
    "tc"
   ]
  },
  {
   "cell_type": "code",
   "execution_count": 12,
   "id": "ef0266bb",
   "metadata": {},
   "outputs": [],
   "source": [
    "tc = tc[['index_id', 'price', 'carat', 'city']]  # Elimino columna city_id y me quedo con el resto"
   ]
  },
  {
   "cell_type": "code",
   "execution_count": 13,
   "id": "845872ad",
   "metadata": {},
   "outputs": [
    {
     "data": {
      "text/html": [
       "<div>\n",
       "<style scoped>\n",
       "    .dataframe tbody tr th:only-of-type {\n",
       "        vertical-align: middle;\n",
       "    }\n",
       "\n",
       "    .dataframe tbody tr th {\n",
       "        vertical-align: top;\n",
       "    }\n",
       "\n",
       "    .dataframe thead th {\n",
       "        text-align: right;\n",
       "    }\n",
       "</style>\n",
       "<table border=\"1\" class=\"dataframe\">\n",
       "  <thead>\n",
       "    <tr style=\"text-align: right;\">\n",
       "      <th></th>\n",
       "      <th>index_id</th>\n",
       "      <th>cut_id</th>\n",
       "      <th>color_id</th>\n",
       "      <th>clarity_id</th>\n",
       "      <th>clarity</th>\n",
       "      <th>color</th>\n",
       "      <th>cut</th>\n",
       "      <th>depth</th>\n",
       "      <th>table</th>\n",
       "      <th>x</th>\n",
       "      <th>y</th>\n",
       "      <th>z</th>\n",
       "      <th>price</th>\n",
       "      <th>carat</th>\n",
       "      <th>city</th>\n",
       "    </tr>\n",
       "  </thead>\n",
       "  <tbody>\n",
       "    <tr>\n",
       "      <th>0</th>\n",
       "      <td>5feceb66ffc86f38d952786c6d696c79c2dbc239dd4e91...</td>\n",
       "      <td>de88c121a82a06352bf1aaceba20578356408a334ba046...</td>\n",
       "      <td>6da43b944e494e885e69af021f93c6d9331c78aa228084...</td>\n",
       "      <td>f0b2a1d0db08cc64f85d74f1d15c2191e0e49039f4d8f2...</td>\n",
       "      <td>VS2</td>\n",
       "      <td>J</td>\n",
       "      <td>Premium</td>\n",
       "      <td>62.4</td>\n",
       "      <td>58.0</td>\n",
       "      <td>6.83</td>\n",
       "      <td>6.79</td>\n",
       "      <td>4.25</td>\n",
       "      <td>4268</td>\n",
       "      <td>1.21</td>\n",
       "      <td>Kimberly</td>\n",
       "    </tr>\n",
       "    <tr>\n",
       "      <th>1</th>\n",
       "      <td>5d85be4cc5af40a7cf2c4f0818d92689c185fdea656674...</td>\n",
       "      <td>de88c121a82a06352bf1aaceba20578356408a334ba046...</td>\n",
       "      <td>6da43b944e494e885e69af021f93c6d9331c78aa228084...</td>\n",
       "      <td>f0b2a1d0db08cc64f85d74f1d15c2191e0e49039f4d8f2...</td>\n",
       "      <td>VS2</td>\n",
       "      <td>J</td>\n",
       "      <td>Premium</td>\n",
       "      <td>60.5</td>\n",
       "      <td>56.0</td>\n",
       "      <td>7.19</td>\n",
       "      <td>7.12</td>\n",
       "      <td>4.33</td>\n",
       "      <td>6254</td>\n",
       "      <td>1.35</td>\n",
       "      <td>London</td>\n",
       "    </tr>\n",
       "    <tr>\n",
       "      <th>2</th>\n",
       "      <td>d2e655334ee2e4841be477484381df1617a8b891adc04c...</td>\n",
       "      <td>de88c121a82a06352bf1aaceba20578356408a334ba046...</td>\n",
       "      <td>6da43b944e494e885e69af021f93c6d9331c78aa228084...</td>\n",
       "      <td>f0b2a1d0db08cc64f85d74f1d15c2191e0e49039f4d8f2...</td>\n",
       "      <td>VS2</td>\n",
       "      <td>J</td>\n",
       "      <td>Premium</td>\n",
       "      <td>58.4</td>\n",
       "      <td>59.0</td>\n",
       "      <td>7.40</td>\n",
       "      <td>7.27</td>\n",
       "      <td>4.28</td>\n",
       "      <td>6157</td>\n",
       "      <td>1.36</td>\n",
       "      <td>Madrid</td>\n",
       "    </tr>\n",
       "    <tr>\n",
       "      <th>3</th>\n",
       "      <td>759b87b87ba0c0c701d14eb2e6e31560929e9359153781...</td>\n",
       "      <td>de88c121a82a06352bf1aaceba20578356408a334ba046...</td>\n",
       "      <td>6da43b944e494e885e69af021f93c6d9331c78aa228084...</td>\n",
       "      <td>f0b2a1d0db08cc64f85d74f1d15c2191e0e49039f4d8f2...</td>\n",
       "      <td>VS2</td>\n",
       "      <td>J</td>\n",
       "      <td>Premium</td>\n",
       "      <td>61.3</td>\n",
       "      <td>60.0</td>\n",
       "      <td>4.65</td>\n",
       "      <td>4.68</td>\n",
       "      <td>2.86</td>\n",
       "      <td>581</td>\n",
       "      <td>0.39</td>\n",
       "      <td>Antwerp</td>\n",
       "    </tr>\n",
       "    <tr>\n",
       "      <th>4</th>\n",
       "      <td>a73060afb61efe1b7c817645d00c342df02407f65435a6...</td>\n",
       "      <td>de88c121a82a06352bf1aaceba20578356408a334ba046...</td>\n",
       "      <td>6da43b944e494e885e69af021f93c6d9331c78aa228084...</td>\n",
       "      <td>f0b2a1d0db08cc64f85d74f1d15c2191e0e49039f4d8f2...</td>\n",
       "      <td>VS2</td>\n",
       "      <td>J</td>\n",
       "      <td>Premium</td>\n",
       "      <td>58.6</td>\n",
       "      <td>58.0</td>\n",
       "      <td>6.85</td>\n",
       "      <td>6.81</td>\n",
       "      <td>4.00</td>\n",
       "      <td>4422</td>\n",
       "      <td>1.12</td>\n",
       "      <td>Surat</td>\n",
       "    </tr>\n",
       "    <tr>\n",
       "      <th>...</th>\n",
       "      <td>...</td>\n",
       "      <td>...</td>\n",
       "      <td>...</td>\n",
       "      <td>...</td>\n",
       "      <td>...</td>\n",
       "      <td>...</td>\n",
       "      <td>...</td>\n",
       "      <td>...</td>\n",
       "      <td>...</td>\n",
       "      <td>...</td>\n",
       "      <td>...</td>\n",
       "      <td>...</td>\n",
       "      <td>...</td>\n",
       "      <td>...</td>\n",
       "      <td>...</td>\n",
       "    </tr>\n",
       "    <tr>\n",
       "      <th>40450</th>\n",
       "      <td>ab0b623e2917148bcead58e44e0c7e765f0b9a455ad8f0...</td>\n",
       "      <td>388655e25e91872329272fc10128ef5354b3b19a05d7e8...</td>\n",
       "      <td>3f39d5c348e5b79d06e842c114e6cc571583bbf44e4b0e...</td>\n",
       "      <td>3f9db06236e9719b61c826b612b882fa702ec81574e44c...</td>\n",
       "      <td>VVS2</td>\n",
       "      <td>D</td>\n",
       "      <td>Very Good</td>\n",
       "      <td>58.8</td>\n",
       "      <td>58.0</td>\n",
       "      <td>4.05</td>\n",
       "      <td>4.08</td>\n",
       "      <td>2.39</td>\n",
       "      <td>521</td>\n",
       "      <td>0.24</td>\n",
       "      <td>Zurich</td>\n",
       "    </tr>\n",
       "    <tr>\n",
       "      <th>40451</th>\n",
       "      <td>835b86c4bff87f7cc316636aea5d2d8006aa5b1829ca21...</td>\n",
       "      <td>388655e25e91872329272fc10128ef5354b3b19a05d7e8...</td>\n",
       "      <td>3f39d5c348e5b79d06e842c114e6cc571583bbf44e4b0e...</td>\n",
       "      <td>3f9db06236e9719b61c826b612b882fa702ec81574e44c...</td>\n",
       "      <td>VVS2</td>\n",
       "      <td>D</td>\n",
       "      <td>Very Good</td>\n",
       "      <td>61.2</td>\n",
       "      <td>55.0</td>\n",
       "      <td>4.79</td>\n",
       "      <td>4.82</td>\n",
       "      <td>2.95</td>\n",
       "      <td>1364</td>\n",
       "      <td>0.41</td>\n",
       "      <td>Tel Aviv</td>\n",
       "    </tr>\n",
       "    <tr>\n",
       "      <th>40452</th>\n",
       "      <td>d6024d73c1c0fcb028067f2c3cacfacb208a576d7169c1...</td>\n",
       "      <td>388655e25e91872329272fc10128ef5354b3b19a05d7e8...</td>\n",
       "      <td>3f39d5c348e5b79d06e842c114e6cc571583bbf44e4b0e...</td>\n",
       "      <td>c2818bc4e5ec4ae4a357a0df6fed73652e169ec676f7d4...</td>\n",
       "      <td>I1</td>\n",
       "      <td>D</td>\n",
       "      <td>Very Good</td>\n",
       "      <td>63.4</td>\n",
       "      <td>61.0</td>\n",
       "      <td>6.38</td>\n",
       "      <td>6.30</td>\n",
       "      <td>4.02</td>\n",
       "      <td>2291</td>\n",
       "      <td>1.01</td>\n",
       "      <td>Madrid</td>\n",
       "    </tr>\n",
       "    <tr>\n",
       "      <th>40453</th>\n",
       "      <td>644053e42eae43b95919ae4d1ba781ddcade453418cd6a...</td>\n",
       "      <td>388655e25e91872329272fc10128ef5354b3b19a05d7e8...</td>\n",
       "      <td>3f39d5c348e5b79d06e842c114e6cc571583bbf44e4b0e...</td>\n",
       "      <td>c2818bc4e5ec4ae4a357a0df6fed73652e169ec676f7d4...</td>\n",
       "      <td>I1</td>\n",
       "      <td>D</td>\n",
       "      <td>Very Good</td>\n",
       "      <td>63.4</td>\n",
       "      <td>60.0</td>\n",
       "      <td>6.18</td>\n",
       "      <td>6.15</td>\n",
       "      <td>3.91</td>\n",
       "      <td>2618</td>\n",
       "      <td>0.93</td>\n",
       "      <td>Antwerp</td>\n",
       "    </tr>\n",
       "    <tr>\n",
       "      <th>40454</th>\n",
       "      <td>d9a9b1fdc9c860dd88fb75f7e520ecc73f4e4c9bfc6d5e...</td>\n",
       "      <td>388655e25e91872329272fc10128ef5354b3b19a05d7e8...</td>\n",
       "      <td>3f39d5c348e5b79d06e842c114e6cc571583bbf44e4b0e...</td>\n",
       "      <td>c2818bc4e5ec4ae4a357a0df6fed73652e169ec676f7d4...</td>\n",
       "      <td>I1</td>\n",
       "      <td>D</td>\n",
       "      <td>Very Good</td>\n",
       "      <td>61.5</td>\n",
       "      <td>62.0</td>\n",
       "      <td>6.73</td>\n",
       "      <td>6.88</td>\n",
       "      <td>4.19</td>\n",
       "      <td>3816</td>\n",
       "      <td>1.18</td>\n",
       "      <td>New York City</td>\n",
       "    </tr>\n",
       "  </tbody>\n",
       "</table>\n",
       "<p>40455 rows × 15 columns</p>\n",
       "</div>"
      ],
      "text/plain": [
       "                                                index_id  \\\n",
       "0      5feceb66ffc86f38d952786c6d696c79c2dbc239dd4e91...   \n",
       "1      5d85be4cc5af40a7cf2c4f0818d92689c185fdea656674...   \n",
       "2      d2e655334ee2e4841be477484381df1617a8b891adc04c...   \n",
       "3      759b87b87ba0c0c701d14eb2e6e31560929e9359153781...   \n",
       "4      a73060afb61efe1b7c817645d00c342df02407f65435a6...   \n",
       "...                                                  ...   \n",
       "40450  ab0b623e2917148bcead58e44e0c7e765f0b9a455ad8f0...   \n",
       "40451  835b86c4bff87f7cc316636aea5d2d8006aa5b1829ca21...   \n",
       "40452  d6024d73c1c0fcb028067f2c3cacfacb208a576d7169c1...   \n",
       "40453  644053e42eae43b95919ae4d1ba781ddcade453418cd6a...   \n",
       "40454  d9a9b1fdc9c860dd88fb75f7e520ecc73f4e4c9bfc6d5e...   \n",
       "\n",
       "                                                  cut_id  \\\n",
       "0      de88c121a82a06352bf1aaceba20578356408a334ba046...   \n",
       "1      de88c121a82a06352bf1aaceba20578356408a334ba046...   \n",
       "2      de88c121a82a06352bf1aaceba20578356408a334ba046...   \n",
       "3      de88c121a82a06352bf1aaceba20578356408a334ba046...   \n",
       "4      de88c121a82a06352bf1aaceba20578356408a334ba046...   \n",
       "...                                                  ...   \n",
       "40450  388655e25e91872329272fc10128ef5354b3b19a05d7e8...   \n",
       "40451  388655e25e91872329272fc10128ef5354b3b19a05d7e8...   \n",
       "40452  388655e25e91872329272fc10128ef5354b3b19a05d7e8...   \n",
       "40453  388655e25e91872329272fc10128ef5354b3b19a05d7e8...   \n",
       "40454  388655e25e91872329272fc10128ef5354b3b19a05d7e8...   \n",
       "\n",
       "                                                color_id  \\\n",
       "0      6da43b944e494e885e69af021f93c6d9331c78aa228084...   \n",
       "1      6da43b944e494e885e69af021f93c6d9331c78aa228084...   \n",
       "2      6da43b944e494e885e69af021f93c6d9331c78aa228084...   \n",
       "3      6da43b944e494e885e69af021f93c6d9331c78aa228084...   \n",
       "4      6da43b944e494e885e69af021f93c6d9331c78aa228084...   \n",
       "...                                                  ...   \n",
       "40450  3f39d5c348e5b79d06e842c114e6cc571583bbf44e4b0e...   \n",
       "40451  3f39d5c348e5b79d06e842c114e6cc571583bbf44e4b0e...   \n",
       "40452  3f39d5c348e5b79d06e842c114e6cc571583bbf44e4b0e...   \n",
       "40453  3f39d5c348e5b79d06e842c114e6cc571583bbf44e4b0e...   \n",
       "40454  3f39d5c348e5b79d06e842c114e6cc571583bbf44e4b0e...   \n",
       "\n",
       "                                              clarity_id clarity color  \\\n",
       "0      f0b2a1d0db08cc64f85d74f1d15c2191e0e49039f4d8f2...     VS2     J   \n",
       "1      f0b2a1d0db08cc64f85d74f1d15c2191e0e49039f4d8f2...     VS2     J   \n",
       "2      f0b2a1d0db08cc64f85d74f1d15c2191e0e49039f4d8f2...     VS2     J   \n",
       "3      f0b2a1d0db08cc64f85d74f1d15c2191e0e49039f4d8f2...     VS2     J   \n",
       "4      f0b2a1d0db08cc64f85d74f1d15c2191e0e49039f4d8f2...     VS2     J   \n",
       "...                                                  ...     ...   ...   \n",
       "40450  3f9db06236e9719b61c826b612b882fa702ec81574e44c...    VVS2     D   \n",
       "40451  3f9db06236e9719b61c826b612b882fa702ec81574e44c...    VVS2     D   \n",
       "40452  c2818bc4e5ec4ae4a357a0df6fed73652e169ec676f7d4...      I1     D   \n",
       "40453  c2818bc4e5ec4ae4a357a0df6fed73652e169ec676f7d4...      I1     D   \n",
       "40454  c2818bc4e5ec4ae4a357a0df6fed73652e169ec676f7d4...      I1     D   \n",
       "\n",
       "             cut  depth  table     x     y     z  price  carat           city  \n",
       "0        Premium   62.4   58.0  6.83  6.79  4.25   4268   1.21       Kimberly  \n",
       "1        Premium   60.5   56.0  7.19  7.12  4.33   6254   1.35         London  \n",
       "2        Premium   58.4   59.0  7.40  7.27  4.28   6157   1.36         Madrid  \n",
       "3        Premium   61.3   60.0  4.65  4.68  2.86    581   0.39        Antwerp  \n",
       "4        Premium   58.6   58.0  6.85  6.81  4.00   4422   1.12          Surat  \n",
       "...          ...    ...    ...   ...   ...   ...    ...    ...            ...  \n",
       "40450  Very Good   58.8   58.0  4.05  4.08  2.39    521   0.24         Zurich  \n",
       "40451  Very Good   61.2   55.0  4.79  4.82  2.95   1364   0.41       Tel Aviv  \n",
       "40452  Very Good   63.4   61.0  6.38  6.30  4.02   2291   1.01         Madrid  \n",
       "40453  Very Good   63.4   60.0  6.18  6.15  3.91   2618   0.93        Antwerp  \n",
       "40454  Very Good   61.5   62.0  6.73  6.88  4.19   3816   1.18  New York City  \n",
       "\n",
       "[40455 rows x 15 columns]"
      ]
     },
     "execution_count": 13,
     "metadata": {},
     "output_type": "execute_result"
    }
   ],
   "source": [
    "df = properties.merge(clarity, on=\"clarity_id\").merge(color, on=\"color_id\").merge(cut, on=\"cut_id\").merge(dimensions, on=\"index_id\").merge(tc, on=\"index_id\")\n",
    "df"
   ]
  },
  {
   "cell_type": "code",
   "execution_count": 14,
   "id": "6070f99a",
   "metadata": {},
   "outputs": [
    {
     "name": "stdout",
     "output_type": "stream",
     "text": [
      "<class 'pandas.core.frame.DataFrame'>\n",
      "Int64Index: 40455 entries, 0 to 40454\n",
      "Data columns (total 15 columns):\n",
      " #   Column      Non-Null Count  Dtype  \n",
      "---  ------      --------------  -----  \n",
      " 0   index_id    40455 non-null  object \n",
      " 1   cut_id      40455 non-null  object \n",
      " 2   color_id    40455 non-null  object \n",
      " 3   clarity_id  40455 non-null  object \n",
      " 4   clarity     40455 non-null  object \n",
      " 5   color       40455 non-null  object \n",
      " 6   cut         40455 non-null  object \n",
      " 7   depth       40455 non-null  float64\n",
      " 8   table       40455 non-null  float64\n",
      " 9   x           40455 non-null  float64\n",
      " 10  y           40455 non-null  float64\n",
      " 11  z           40455 non-null  float64\n",
      " 12  price       40455 non-null  int64  \n",
      " 13  carat       40455 non-null  float64\n",
      " 14  city        40455 non-null  object \n",
      "dtypes: float64(6), int64(1), object(8)\n",
      "memory usage: 4.9+ MB\n"
     ]
    },
    {
     "data": {
      "text/plain": [
       "'\\nEl dataframe total tiene 40.455 rows y 15 columnas: \\nindex_id, cut_id, color_id, clarity_id, clarity, color, cut, depth, table, x, y, z, price, carat, city\\n'"
      ]
     },
     "execution_count": 14,
     "metadata": {},
     "output_type": "execute_result"
    }
   ],
   "source": [
    "df.info()\n",
    "\n",
    "'''\n",
    "El dataframe total tiene 40.455 rows y 15 columnas: \n",
    "index_id, cut_id, color_id, clarity_id, clarity, color, cut, depth, table, x, y, z, price, carat, city\n",
    "'''"
   ]
  },
  {
   "cell_type": "markdown",
   "id": "297ef9e8",
   "metadata": {},
   "source": [
    "## Con qué nos quedamos: \n",
    "- Las columnas de unión ahora ya no sirven así que eliminaremos: \n",
    "    - cut_id\n",
    "    - color_id\n",
    "    - clarity_id\n",
    "- Así el DF resultado tendrá 12 columnas: \n",
    "    - index_id > Para localizar el diamante\n",
    "    - clarity > string\n",
    "    - color > string\n",
    "    - cut > string\n",
    "    - depth > float\n",
    "    - table > float\n",
    "    - x > float\n",
    "    - y > float\n",
    "    - z > float\n",
    "    - price > int\n",
    "    - carat > float\n",
    "    - city > string"
   ]
  },
  {
   "cell_type": "code",
   "execution_count": 15,
   "id": "789a3059",
   "metadata": {},
   "outputs": [
    {
     "data": {
      "text/html": [
       "<div>\n",
       "<style scoped>\n",
       "    .dataframe tbody tr th:only-of-type {\n",
       "        vertical-align: middle;\n",
       "    }\n",
       "\n",
       "    .dataframe tbody tr th {\n",
       "        vertical-align: top;\n",
       "    }\n",
       "\n",
       "    .dataframe thead th {\n",
       "        text-align: right;\n",
       "    }\n",
       "</style>\n",
       "<table border=\"1\" class=\"dataframe\">\n",
       "  <thead>\n",
       "    <tr style=\"text-align: right;\">\n",
       "      <th></th>\n",
       "      <th>index_id</th>\n",
       "      <th>clarity</th>\n",
       "      <th>color</th>\n",
       "      <th>cut</th>\n",
       "      <th>depth</th>\n",
       "      <th>table</th>\n",
       "      <th>x</th>\n",
       "      <th>y</th>\n",
       "      <th>z</th>\n",
       "      <th>price</th>\n",
       "      <th>carat</th>\n",
       "      <th>city</th>\n",
       "    </tr>\n",
       "  </thead>\n",
       "  <tbody>\n",
       "    <tr>\n",
       "      <th>0</th>\n",
       "      <td>5feceb66ffc86f38d952786c6d696c79c2dbc239dd4e91...</td>\n",
       "      <td>VS2</td>\n",
       "      <td>J</td>\n",
       "      <td>Premium</td>\n",
       "      <td>62.4</td>\n",
       "      <td>58.0</td>\n",
       "      <td>6.83</td>\n",
       "      <td>6.79</td>\n",
       "      <td>4.25</td>\n",
       "      <td>4268</td>\n",
       "      <td>1.21</td>\n",
       "      <td>Kimberly</td>\n",
       "    </tr>\n",
       "    <tr>\n",
       "      <th>1</th>\n",
       "      <td>5d85be4cc5af40a7cf2c4f0818d92689c185fdea656674...</td>\n",
       "      <td>VS2</td>\n",
       "      <td>J</td>\n",
       "      <td>Premium</td>\n",
       "      <td>60.5</td>\n",
       "      <td>56.0</td>\n",
       "      <td>7.19</td>\n",
       "      <td>7.12</td>\n",
       "      <td>4.33</td>\n",
       "      <td>6254</td>\n",
       "      <td>1.35</td>\n",
       "      <td>London</td>\n",
       "    </tr>\n",
       "    <tr>\n",
       "      <th>2</th>\n",
       "      <td>d2e655334ee2e4841be477484381df1617a8b891adc04c...</td>\n",
       "      <td>VS2</td>\n",
       "      <td>J</td>\n",
       "      <td>Premium</td>\n",
       "      <td>58.4</td>\n",
       "      <td>59.0</td>\n",
       "      <td>7.40</td>\n",
       "      <td>7.27</td>\n",
       "      <td>4.28</td>\n",
       "      <td>6157</td>\n",
       "      <td>1.36</td>\n",
       "      <td>Madrid</td>\n",
       "    </tr>\n",
       "    <tr>\n",
       "      <th>3</th>\n",
       "      <td>759b87b87ba0c0c701d14eb2e6e31560929e9359153781...</td>\n",
       "      <td>VS2</td>\n",
       "      <td>J</td>\n",
       "      <td>Premium</td>\n",
       "      <td>61.3</td>\n",
       "      <td>60.0</td>\n",
       "      <td>4.65</td>\n",
       "      <td>4.68</td>\n",
       "      <td>2.86</td>\n",
       "      <td>581</td>\n",
       "      <td>0.39</td>\n",
       "      <td>Antwerp</td>\n",
       "    </tr>\n",
       "    <tr>\n",
       "      <th>4</th>\n",
       "      <td>a73060afb61efe1b7c817645d00c342df02407f65435a6...</td>\n",
       "      <td>VS2</td>\n",
       "      <td>J</td>\n",
       "      <td>Premium</td>\n",
       "      <td>58.6</td>\n",
       "      <td>58.0</td>\n",
       "      <td>6.85</td>\n",
       "      <td>6.81</td>\n",
       "      <td>4.00</td>\n",
       "      <td>4422</td>\n",
       "      <td>1.12</td>\n",
       "      <td>Surat</td>\n",
       "    </tr>\n",
       "    <tr>\n",
       "      <th>...</th>\n",
       "      <td>...</td>\n",
       "      <td>...</td>\n",
       "      <td>...</td>\n",
       "      <td>...</td>\n",
       "      <td>...</td>\n",
       "      <td>...</td>\n",
       "      <td>...</td>\n",
       "      <td>...</td>\n",
       "      <td>...</td>\n",
       "      <td>...</td>\n",
       "      <td>...</td>\n",
       "      <td>...</td>\n",
       "    </tr>\n",
       "    <tr>\n",
       "      <th>40450</th>\n",
       "      <td>ab0b623e2917148bcead58e44e0c7e765f0b9a455ad8f0...</td>\n",
       "      <td>VVS2</td>\n",
       "      <td>D</td>\n",
       "      <td>Very Good</td>\n",
       "      <td>58.8</td>\n",
       "      <td>58.0</td>\n",
       "      <td>4.05</td>\n",
       "      <td>4.08</td>\n",
       "      <td>2.39</td>\n",
       "      <td>521</td>\n",
       "      <td>0.24</td>\n",
       "      <td>Zurich</td>\n",
       "    </tr>\n",
       "    <tr>\n",
       "      <th>40451</th>\n",
       "      <td>835b86c4bff87f7cc316636aea5d2d8006aa5b1829ca21...</td>\n",
       "      <td>VVS2</td>\n",
       "      <td>D</td>\n",
       "      <td>Very Good</td>\n",
       "      <td>61.2</td>\n",
       "      <td>55.0</td>\n",
       "      <td>4.79</td>\n",
       "      <td>4.82</td>\n",
       "      <td>2.95</td>\n",
       "      <td>1364</td>\n",
       "      <td>0.41</td>\n",
       "      <td>Tel Aviv</td>\n",
       "    </tr>\n",
       "    <tr>\n",
       "      <th>40452</th>\n",
       "      <td>d6024d73c1c0fcb028067f2c3cacfacb208a576d7169c1...</td>\n",
       "      <td>I1</td>\n",
       "      <td>D</td>\n",
       "      <td>Very Good</td>\n",
       "      <td>63.4</td>\n",
       "      <td>61.0</td>\n",
       "      <td>6.38</td>\n",
       "      <td>6.30</td>\n",
       "      <td>4.02</td>\n",
       "      <td>2291</td>\n",
       "      <td>1.01</td>\n",
       "      <td>Madrid</td>\n",
       "    </tr>\n",
       "    <tr>\n",
       "      <th>40453</th>\n",
       "      <td>644053e42eae43b95919ae4d1ba781ddcade453418cd6a...</td>\n",
       "      <td>I1</td>\n",
       "      <td>D</td>\n",
       "      <td>Very Good</td>\n",
       "      <td>63.4</td>\n",
       "      <td>60.0</td>\n",
       "      <td>6.18</td>\n",
       "      <td>6.15</td>\n",
       "      <td>3.91</td>\n",
       "      <td>2618</td>\n",
       "      <td>0.93</td>\n",
       "      <td>Antwerp</td>\n",
       "    </tr>\n",
       "    <tr>\n",
       "      <th>40454</th>\n",
       "      <td>d9a9b1fdc9c860dd88fb75f7e520ecc73f4e4c9bfc6d5e...</td>\n",
       "      <td>I1</td>\n",
       "      <td>D</td>\n",
       "      <td>Very Good</td>\n",
       "      <td>61.5</td>\n",
       "      <td>62.0</td>\n",
       "      <td>6.73</td>\n",
       "      <td>6.88</td>\n",
       "      <td>4.19</td>\n",
       "      <td>3816</td>\n",
       "      <td>1.18</td>\n",
       "      <td>New York City</td>\n",
       "    </tr>\n",
       "  </tbody>\n",
       "</table>\n",
       "<p>40455 rows × 12 columns</p>\n",
       "</div>"
      ],
      "text/plain": [
       "                                                index_id clarity color  \\\n",
       "0      5feceb66ffc86f38d952786c6d696c79c2dbc239dd4e91...     VS2     J   \n",
       "1      5d85be4cc5af40a7cf2c4f0818d92689c185fdea656674...     VS2     J   \n",
       "2      d2e655334ee2e4841be477484381df1617a8b891adc04c...     VS2     J   \n",
       "3      759b87b87ba0c0c701d14eb2e6e31560929e9359153781...     VS2     J   \n",
       "4      a73060afb61efe1b7c817645d00c342df02407f65435a6...     VS2     J   \n",
       "...                                                  ...     ...   ...   \n",
       "40450  ab0b623e2917148bcead58e44e0c7e765f0b9a455ad8f0...    VVS2     D   \n",
       "40451  835b86c4bff87f7cc316636aea5d2d8006aa5b1829ca21...    VVS2     D   \n",
       "40452  d6024d73c1c0fcb028067f2c3cacfacb208a576d7169c1...      I1     D   \n",
       "40453  644053e42eae43b95919ae4d1ba781ddcade453418cd6a...      I1     D   \n",
       "40454  d9a9b1fdc9c860dd88fb75f7e520ecc73f4e4c9bfc6d5e...      I1     D   \n",
       "\n",
       "             cut  depth  table     x     y     z  price  carat           city  \n",
       "0        Premium   62.4   58.0  6.83  6.79  4.25   4268   1.21       Kimberly  \n",
       "1        Premium   60.5   56.0  7.19  7.12  4.33   6254   1.35         London  \n",
       "2        Premium   58.4   59.0  7.40  7.27  4.28   6157   1.36         Madrid  \n",
       "3        Premium   61.3   60.0  4.65  4.68  2.86    581   0.39        Antwerp  \n",
       "4        Premium   58.6   58.0  6.85  6.81  4.00   4422   1.12          Surat  \n",
       "...          ...    ...    ...   ...   ...   ...    ...    ...            ...  \n",
       "40450  Very Good   58.8   58.0  4.05  4.08  2.39    521   0.24         Zurich  \n",
       "40451  Very Good   61.2   55.0  4.79  4.82  2.95   1364   0.41       Tel Aviv  \n",
       "40452  Very Good   63.4   61.0  6.38  6.30  4.02   2291   1.01         Madrid  \n",
       "40453  Very Good   63.4   60.0  6.18  6.15  3.91   2618   0.93        Antwerp  \n",
       "40454  Very Good   61.5   62.0  6.73  6.88  4.19   3816   1.18  New York City  \n",
       "\n",
       "[40455 rows x 12 columns]"
      ]
     },
     "execution_count": 15,
     "metadata": {},
     "output_type": "execute_result"
    }
   ],
   "source": [
    "df = df[['index_id', 'clarity', 'color', 'cut', 'depth', 'table', 'x', 'y', 'z', 'price', 'carat', 'city']]\n",
    "df"
   ]
  },
  {
   "cell_type": "markdown",
   "id": "31cc224c",
   "metadata": {},
   "source": [
    "# Genero nuevo csv para próximas lecturas"
   ]
  },
  {
   "cell_type": "code",
   "execution_count": 16,
   "id": "f99865a3",
   "metadata": {},
   "outputs": [],
   "source": [
    "df.to_csv('./data/tablon_completo.csv')"
   ]
  },
  {
   "cell_type": "code",
   "execution_count": 2,
   "id": "5addb862",
   "metadata": {},
   "outputs": [],
   "source": [
    "df = pd.read_csv('./data/tablon_completo.csv')"
   ]
  },
  {
   "cell_type": "code",
   "execution_count": 3,
   "id": "a4082962",
   "metadata": {},
   "outputs": [
    {
     "data": {
      "text/html": [
       "<div>\n",
       "<style scoped>\n",
       "    .dataframe tbody tr th:only-of-type {\n",
       "        vertical-align: middle;\n",
       "    }\n",
       "\n",
       "    .dataframe tbody tr th {\n",
       "        vertical-align: top;\n",
       "    }\n",
       "\n",
       "    .dataframe thead th {\n",
       "        text-align: right;\n",
       "    }\n",
       "</style>\n",
       "<table border=\"1\" class=\"dataframe\">\n",
       "  <thead>\n",
       "    <tr style=\"text-align: right;\">\n",
       "      <th></th>\n",
       "      <th>Unnamed: 0</th>\n",
       "      <th>index_id</th>\n",
       "      <th>clarity</th>\n",
       "      <th>color</th>\n",
       "      <th>cut</th>\n",
       "      <th>depth</th>\n",
       "      <th>table</th>\n",
       "      <th>x</th>\n",
       "      <th>y</th>\n",
       "      <th>z</th>\n",
       "      <th>price</th>\n",
       "      <th>carat</th>\n",
       "      <th>city</th>\n",
       "    </tr>\n",
       "  </thead>\n",
       "  <tbody>\n",
       "    <tr>\n",
       "      <th>0</th>\n",
       "      <td>0</td>\n",
       "      <td>5feceb66ffc86f38d952786c6d696c79c2dbc239dd4e91...</td>\n",
       "      <td>VS2</td>\n",
       "      <td>J</td>\n",
       "      <td>Premium</td>\n",
       "      <td>62.4</td>\n",
       "      <td>58.0</td>\n",
       "      <td>6.83</td>\n",
       "      <td>6.79</td>\n",
       "      <td>4.25</td>\n",
       "      <td>4268</td>\n",
       "      <td>1.21</td>\n",
       "      <td>Kimberly</td>\n",
       "    </tr>\n",
       "    <tr>\n",
       "      <th>1</th>\n",
       "      <td>1</td>\n",
       "      <td>5d85be4cc5af40a7cf2c4f0818d92689c185fdea656674...</td>\n",
       "      <td>VS2</td>\n",
       "      <td>J</td>\n",
       "      <td>Premium</td>\n",
       "      <td>60.5</td>\n",
       "      <td>56.0</td>\n",
       "      <td>7.19</td>\n",
       "      <td>7.12</td>\n",
       "      <td>4.33</td>\n",
       "      <td>6254</td>\n",
       "      <td>1.35</td>\n",
       "      <td>London</td>\n",
       "    </tr>\n",
       "    <tr>\n",
       "      <th>2</th>\n",
       "      <td>2</td>\n",
       "      <td>d2e655334ee2e4841be477484381df1617a8b891adc04c...</td>\n",
       "      <td>VS2</td>\n",
       "      <td>J</td>\n",
       "      <td>Premium</td>\n",
       "      <td>58.4</td>\n",
       "      <td>59.0</td>\n",
       "      <td>7.40</td>\n",
       "      <td>7.27</td>\n",
       "      <td>4.28</td>\n",
       "      <td>6157</td>\n",
       "      <td>1.36</td>\n",
       "      <td>Madrid</td>\n",
       "    </tr>\n",
       "    <tr>\n",
       "      <th>3</th>\n",
       "      <td>3</td>\n",
       "      <td>759b87b87ba0c0c701d14eb2e6e31560929e9359153781...</td>\n",
       "      <td>VS2</td>\n",
       "      <td>J</td>\n",
       "      <td>Premium</td>\n",
       "      <td>61.3</td>\n",
       "      <td>60.0</td>\n",
       "      <td>4.65</td>\n",
       "      <td>4.68</td>\n",
       "      <td>2.86</td>\n",
       "      <td>581</td>\n",
       "      <td>0.39</td>\n",
       "      <td>Antwerp</td>\n",
       "    </tr>\n",
       "    <tr>\n",
       "      <th>4</th>\n",
       "      <td>4</td>\n",
       "      <td>a73060afb61efe1b7c817645d00c342df02407f65435a6...</td>\n",
       "      <td>VS2</td>\n",
       "      <td>J</td>\n",
       "      <td>Premium</td>\n",
       "      <td>58.6</td>\n",
       "      <td>58.0</td>\n",
       "      <td>6.85</td>\n",
       "      <td>6.81</td>\n",
       "      <td>4.00</td>\n",
       "      <td>4422</td>\n",
       "      <td>1.12</td>\n",
       "      <td>Surat</td>\n",
       "    </tr>\n",
       "    <tr>\n",
       "      <th>...</th>\n",
       "      <td>...</td>\n",
       "      <td>...</td>\n",
       "      <td>...</td>\n",
       "      <td>...</td>\n",
       "      <td>...</td>\n",
       "      <td>...</td>\n",
       "      <td>...</td>\n",
       "      <td>...</td>\n",
       "      <td>...</td>\n",
       "      <td>...</td>\n",
       "      <td>...</td>\n",
       "      <td>...</td>\n",
       "      <td>...</td>\n",
       "    </tr>\n",
       "    <tr>\n",
       "      <th>40450</th>\n",
       "      <td>40450</td>\n",
       "      <td>ab0b623e2917148bcead58e44e0c7e765f0b9a455ad8f0...</td>\n",
       "      <td>VVS2</td>\n",
       "      <td>D</td>\n",
       "      <td>Very Good</td>\n",
       "      <td>58.8</td>\n",
       "      <td>58.0</td>\n",
       "      <td>4.05</td>\n",
       "      <td>4.08</td>\n",
       "      <td>2.39</td>\n",
       "      <td>521</td>\n",
       "      <td>0.24</td>\n",
       "      <td>Zurich</td>\n",
       "    </tr>\n",
       "    <tr>\n",
       "      <th>40451</th>\n",
       "      <td>40451</td>\n",
       "      <td>835b86c4bff87f7cc316636aea5d2d8006aa5b1829ca21...</td>\n",
       "      <td>VVS2</td>\n",
       "      <td>D</td>\n",
       "      <td>Very Good</td>\n",
       "      <td>61.2</td>\n",
       "      <td>55.0</td>\n",
       "      <td>4.79</td>\n",
       "      <td>4.82</td>\n",
       "      <td>2.95</td>\n",
       "      <td>1364</td>\n",
       "      <td>0.41</td>\n",
       "      <td>Tel Aviv</td>\n",
       "    </tr>\n",
       "    <tr>\n",
       "      <th>40452</th>\n",
       "      <td>40452</td>\n",
       "      <td>d6024d73c1c0fcb028067f2c3cacfacb208a576d7169c1...</td>\n",
       "      <td>I1</td>\n",
       "      <td>D</td>\n",
       "      <td>Very Good</td>\n",
       "      <td>63.4</td>\n",
       "      <td>61.0</td>\n",
       "      <td>6.38</td>\n",
       "      <td>6.30</td>\n",
       "      <td>4.02</td>\n",
       "      <td>2291</td>\n",
       "      <td>1.01</td>\n",
       "      <td>Madrid</td>\n",
       "    </tr>\n",
       "    <tr>\n",
       "      <th>40453</th>\n",
       "      <td>40453</td>\n",
       "      <td>644053e42eae43b95919ae4d1ba781ddcade453418cd6a...</td>\n",
       "      <td>I1</td>\n",
       "      <td>D</td>\n",
       "      <td>Very Good</td>\n",
       "      <td>63.4</td>\n",
       "      <td>60.0</td>\n",
       "      <td>6.18</td>\n",
       "      <td>6.15</td>\n",
       "      <td>3.91</td>\n",
       "      <td>2618</td>\n",
       "      <td>0.93</td>\n",
       "      <td>Antwerp</td>\n",
       "    </tr>\n",
       "    <tr>\n",
       "      <th>40454</th>\n",
       "      <td>40454</td>\n",
       "      <td>d9a9b1fdc9c860dd88fb75f7e520ecc73f4e4c9bfc6d5e...</td>\n",
       "      <td>I1</td>\n",
       "      <td>D</td>\n",
       "      <td>Very Good</td>\n",
       "      <td>61.5</td>\n",
       "      <td>62.0</td>\n",
       "      <td>6.73</td>\n",
       "      <td>6.88</td>\n",
       "      <td>4.19</td>\n",
       "      <td>3816</td>\n",
       "      <td>1.18</td>\n",
       "      <td>New York City</td>\n",
       "    </tr>\n",
       "  </tbody>\n",
       "</table>\n",
       "<p>40455 rows × 13 columns</p>\n",
       "</div>"
      ],
      "text/plain": [
       "       Unnamed: 0                                           index_id clarity  \\\n",
       "0               0  5feceb66ffc86f38d952786c6d696c79c2dbc239dd4e91...     VS2   \n",
       "1               1  5d85be4cc5af40a7cf2c4f0818d92689c185fdea656674...     VS2   \n",
       "2               2  d2e655334ee2e4841be477484381df1617a8b891adc04c...     VS2   \n",
       "3               3  759b87b87ba0c0c701d14eb2e6e31560929e9359153781...     VS2   \n",
       "4               4  a73060afb61efe1b7c817645d00c342df02407f65435a6...     VS2   \n",
       "...           ...                                                ...     ...   \n",
       "40450       40450  ab0b623e2917148bcead58e44e0c7e765f0b9a455ad8f0...    VVS2   \n",
       "40451       40451  835b86c4bff87f7cc316636aea5d2d8006aa5b1829ca21...    VVS2   \n",
       "40452       40452  d6024d73c1c0fcb028067f2c3cacfacb208a576d7169c1...      I1   \n",
       "40453       40453  644053e42eae43b95919ae4d1ba781ddcade453418cd6a...      I1   \n",
       "40454       40454  d9a9b1fdc9c860dd88fb75f7e520ecc73f4e4c9bfc6d5e...      I1   \n",
       "\n",
       "      color        cut  depth  table     x     y     z  price  carat  \\\n",
       "0         J    Premium   62.4   58.0  6.83  6.79  4.25   4268   1.21   \n",
       "1         J    Premium   60.5   56.0  7.19  7.12  4.33   6254   1.35   \n",
       "2         J    Premium   58.4   59.0  7.40  7.27  4.28   6157   1.36   \n",
       "3         J    Premium   61.3   60.0  4.65  4.68  2.86    581   0.39   \n",
       "4         J    Premium   58.6   58.0  6.85  6.81  4.00   4422   1.12   \n",
       "...     ...        ...    ...    ...   ...   ...   ...    ...    ...   \n",
       "40450     D  Very Good   58.8   58.0  4.05  4.08  2.39    521   0.24   \n",
       "40451     D  Very Good   61.2   55.0  4.79  4.82  2.95   1364   0.41   \n",
       "40452     D  Very Good   63.4   61.0  6.38  6.30  4.02   2291   1.01   \n",
       "40453     D  Very Good   63.4   60.0  6.18  6.15  3.91   2618   0.93   \n",
       "40454     D  Very Good   61.5   62.0  6.73  6.88  4.19   3816   1.18   \n",
       "\n",
       "                city  \n",
       "0           Kimberly  \n",
       "1             London  \n",
       "2             Madrid  \n",
       "3            Antwerp  \n",
       "4              Surat  \n",
       "...              ...  \n",
       "40450         Zurich  \n",
       "40451       Tel Aviv  \n",
       "40452         Madrid  \n",
       "40453        Antwerp  \n",
       "40454  New York City  \n",
       "\n",
       "[40455 rows x 13 columns]"
      ]
     },
     "execution_count": 3,
     "metadata": {},
     "output_type": "execute_result"
    }
   ],
   "source": [
    "df"
   ]
  },
  {
   "cell_type": "markdown",
   "id": "d86ef66f",
   "metadata": {},
   "source": [
    "# EDA"
   ]
  },
  {
   "cell_type": "markdown",
   "id": "3ca53eaa",
   "metadata": {},
   "source": [
    "## Información de variables numéricas: price, carat, depth y table"
   ]
  },
  {
   "cell_type": "code",
   "execution_count": 17,
   "id": "77852713",
   "metadata": {},
   "outputs": [],
   "source": [
    "# Media y mediana"
   ]
  },
  {
   "cell_type": "code",
   "execution_count": 18,
   "id": "a94a1a60",
   "metadata": {},
   "outputs": [
    {
     "data": {
      "text/plain": [
       "605      106\n",
       "802       95\n",
       "625       94\n",
       "720       90\n",
       "698       90\n",
       "        ... \n",
       "16506      1\n",
       "12731      1\n",
       "6698       1\n",
       "10472      1\n",
       "13630      1\n",
       "Name: price, Length: 10378, dtype: int64"
      ]
     },
     "execution_count": 18,
     "metadata": {},
     "output_type": "execute_result"
    }
   ],
   "source": [
    "df['price'].value_counts()"
   ]
  },
  {
   "cell_type": "code",
   "execution_count": 19,
   "id": "7620b297",
   "metadata": {},
   "outputs": [
    {
     "data": {
      "text/plain": [
       "count    40455.000000\n",
       "mean      3928.444469\n",
       "std       3992.416147\n",
       "min        326.000000\n",
       "25%        945.000000\n",
       "50%       2397.000000\n",
       "75%       5331.000000\n",
       "max      18823.000000\n",
       "Name: price, dtype: float64"
      ]
     },
     "execution_count": 19,
     "metadata": {},
     "output_type": "execute_result"
    }
   ],
   "source": [
    "df['price'].describe()"
   ]
  },
  {
   "cell_type": "code",
   "execution_count": 20,
   "id": "0d978193",
   "metadata": {},
   "outputs": [
    {
     "data": {
      "text/plain": [
       "2397.0"
      ]
     },
     "execution_count": 20,
     "metadata": {},
     "output_type": "execute_result"
    }
   ],
   "source": [
    "df['price'].median()"
   ]
  },
  {
   "cell_type": "code",
   "execution_count": 21,
   "id": "4a0cb7bb",
   "metadata": {},
   "outputs": [
    {
     "data": {
      "text/plain": [
       "'\\nInformación generada de precio: \\n- Mean:        3928.44\\n- Median:      2397\\n- Standar dev: 3992.41\\n- Minimo:       326\\n- Máximo:     18823\\n'"
      ]
     },
     "execution_count": 21,
     "metadata": {},
     "output_type": "execute_result"
    }
   ],
   "source": [
    "'''\n",
    "Información generada de precio: \n",
    "- Mean:        3928.44\n",
    "- Median:      2397\n",
    "- Standar dev: 3992.41\n",
    "- Minimo:       326\n",
    "- Máximo:     18823\n",
    "'''"
   ]
  },
  {
   "cell_type": "code",
   "execution_count": 22,
   "id": "1d769124",
   "metadata": {},
   "outputs": [
    {
     "data": {
      "text/plain": [
       "0.30    1973\n",
       "1.01    1739\n",
       "0.31    1717\n",
       "0.70    1447\n",
       "0.32    1395\n",
       "        ... \n",
       "4.13       1\n",
       "4.50       1\n",
       "3.11       1\n",
       "2.74       1\n",
       "4.00       1\n",
       "Name: carat, Length: 270, dtype: int64"
      ]
     },
     "execution_count": 22,
     "metadata": {},
     "output_type": "execute_result"
    }
   ],
   "source": [
    "df['carat'].value_counts()"
   ]
  },
  {
   "cell_type": "code",
   "execution_count": 23,
   "id": "dc3341ff",
   "metadata": {},
   "outputs": [
    {
     "data": {
      "text/plain": [
       "count    40455.000000\n",
       "mean         0.797706\n",
       "std          0.475544\n",
       "min          0.200000\n",
       "25%          0.400000\n",
       "50%          0.700000\n",
       "75%          1.040000\n",
       "max          4.500000\n",
       "Name: carat, dtype: float64"
      ]
     },
     "execution_count": 23,
     "metadata": {},
     "output_type": "execute_result"
    }
   ],
   "source": [
    "df['carat'].describe()"
   ]
  },
  {
   "cell_type": "code",
   "execution_count": 24,
   "id": "3abf9c7d",
   "metadata": {},
   "outputs": [
    {
     "data": {
      "text/plain": [
       "'\\nInformación generada de carat: \\n- Mean:        0.79\\n- Standar dev: 0.47\\n- Minimo:      0.20\\n- Máximo:      4.50\\n'"
      ]
     },
     "execution_count": 24,
     "metadata": {},
     "output_type": "execute_result"
    }
   ],
   "source": [
    "'''\n",
    "Información generada de carat: \n",
    "- Mean:        0.79\n",
    "- Standar dev: 0.47\n",
    "- Minimo:      0.20\n",
    "- Máximo:      4.50\n",
    "'''"
   ]
  },
  {
   "cell_type": "markdown",
   "id": "05235205",
   "metadata": {},
   "source": [
    "## Información de variables categóricas: city, clarity, color y cut"
   ]
  },
  {
   "cell_type": "code",
   "execution_count": 25,
   "id": "bcdd188e",
   "metadata": {},
   "outputs": [],
   "source": [
    "# Cuántos tipos hay dentro y el porcentaje"
   ]
  },
  {
   "cell_type": "code",
   "execution_count": 26,
   "id": "bd962914",
   "metadata": {},
   "outputs": [
    {
     "data": {
      "text/plain": [
       "SI1     9749\n",
       "VS2     9248\n",
       "SI2     6929\n",
       "VS1     6066\n",
       "VVS2    3799\n",
       "VVS1    2774\n",
       "IF      1327\n",
       "I1       563\n",
       "Name: clarity, dtype: int64"
      ]
     },
     "execution_count": 26,
     "metadata": {},
     "output_type": "execute_result"
    }
   ],
   "source": [
    "df['clarity'].value_counts() # Existen 8 tipos de clarity"
   ]
  },
  {
   "cell_type": "code",
   "execution_count": 27,
   "id": "32e0af52",
   "metadata": {},
   "outputs": [
    {
     "data": {
      "text/plain": [
       "G    8455\n",
       "E    7325\n",
       "F    7177\n",
       "H    6277\n",
       "D    5049\n",
       "I    4032\n",
       "J    2140\n",
       "Name: color, dtype: int64"
      ]
     },
     "execution_count": 27,
     "metadata": {},
     "output_type": "execute_result"
    }
   ],
   "source": [
    "df['color'].value_counts() # Existen 7 tipos de colores"
   ]
  },
  {
   "cell_type": "code",
   "execution_count": 28,
   "id": "0984332a",
   "metadata": {},
   "outputs": [
    {
     "data": {
      "text/plain": [
       "G    0.208998\n",
       "E    0.181065\n",
       "F    0.177407\n",
       "H    0.155160\n",
       "D    0.124805\n",
       "I    0.099666\n",
       "J    0.052898\n",
       "Name: color, dtype: float64"
      ]
     },
     "execution_count": 28,
     "metadata": {},
     "output_type": "execute_result"
    }
   ],
   "source": [
    "df['color'].value_counts(normalize=True) "
   ]
  },
  {
   "cell_type": "code",
   "execution_count": 29,
   "id": "4c57e4b5",
   "metadata": {},
   "outputs": [
    {
     "data": {
      "text/plain": [
       "Ideal        16220\n",
       "Premium      10260\n",
       "Very Good     9095\n",
       "Good          3663\n",
       "Fair          1217\n",
       "Name: cut, dtype: int64"
      ]
     },
     "execution_count": 29,
     "metadata": {},
     "output_type": "execute_result"
    }
   ],
   "source": [
    "df['cut'].value_counts() # Existen 5 tipos de cut"
   ]
  },
  {
   "cell_type": "code",
   "execution_count": 30,
   "id": "3e4dad6a",
   "metadata": {},
   "outputs": [
    {
     "data": {
      "text/plain": [
       "Ideal        0.400939\n",
       "Premium      0.253615\n",
       "Very Good    0.224818\n",
       "Good         0.090545\n",
       "Fair         0.030083\n",
       "Name: cut, dtype: float64"
      ]
     },
     "execution_count": 30,
     "metadata": {},
     "output_type": "execute_result"
    }
   ],
   "source": [
    "df['cut'].value_counts(normalize=True) # Distribución de frecuencia"
   ]
  },
  {
   "cell_type": "code",
   "execution_count": 31,
   "id": "ddd39e98",
   "metadata": {},
   "outputs": [
    {
     "data": {
      "text/plain": [
       "Antwerp          5062\n",
       "Surat            5047\n",
       "Kimberly         5040\n",
       "Zurich           2594\n",
       "Paris            2579\n",
       "Las Vegas        2558\n",
       "Amsterdam        2544\n",
       "Tel Aviv         2533\n",
       "Luxembourg       2524\n",
       "Madrid           2504\n",
       "New York City    2495\n",
       "Dubai            2488\n",
       "London           2487\n",
       "Name: city, dtype: int64"
      ]
     },
     "execution_count": 31,
     "metadata": {},
     "output_type": "execute_result"
    }
   ],
   "source": [
    "df['city'].value_counts() # 13 ciudades distintas"
   ]
  },
  {
   "cell_type": "code",
   "execution_count": 32,
   "id": "efb882a7",
   "metadata": {},
   "outputs": [
    {
     "data": {
      "text/plain": [
       "Antwerp          0.125127\n",
       "Surat            0.124756\n",
       "Kimberly         0.124583\n",
       "Zurich           0.064121\n",
       "Paris            0.063750\n",
       "Las Vegas        0.063231\n",
       "Amsterdam        0.062885\n",
       "Tel Aviv         0.062613\n",
       "Luxembourg       0.062390\n",
       "Madrid           0.061896\n",
       "New York City    0.061673\n",
       "Dubai            0.061500\n",
       "London           0.061476\n",
       "Name: city, dtype: float64"
      ]
     },
     "execution_count": 32,
     "metadata": {},
     "output_type": "execute_result"
    }
   ],
   "source": [
    "df['city'].value_counts(normalize=True)"
   ]
  },
  {
   "cell_type": "markdown",
   "id": "cbb93f8a",
   "metadata": {},
   "source": [
    "### Boxplot del precio"
   ]
  },
  {
   "cell_type": "code",
   "execution_count": 33,
   "id": "3dbac084",
   "metadata": {},
   "outputs": [
    {
     "name": "stdout",
     "output_type": "stream",
     "text": [
      "2397.0\n",
      "945.0\n",
      "5331.0\n",
      "4386.0\n"
     ]
    }
   ],
   "source": [
    "# Paso 1: ordenar los precios de menor a mayor\n",
    "sorted_price = df['price'].sort_values()\n",
    "\n",
    "# Paso 2: encontrar la mediana\n",
    "median = sorted_price.median()\n",
    "print(median)\n",
    "\n",
    "# Paso 3: encontrar el primer y tercer cuartil \n",
    "q1 = np.quantile(sorted_price,0.25)\n",
    "q3 = np.quantile(sorted_price,0.75)\n",
    "print(q1)\n",
    "print(q3)\n",
    "\n",
    "# Paso 4: rango intercuartílico (RIC), diferencia entre el tercer y el primer cuartil\n",
    "ric = q3 - q1\n",
    "print(ric)\n",
    "\n"
   ]
  },
  {
   "cell_type": "code",
   "execution_count": 34,
   "id": "06b08f7e",
   "metadata": {},
   "outputs": [
    {
     "data": {
      "image/png": "[encoded data removed]",
      "text/plain": [
       "<Figure size 200x500 with 1 Axes>"
      ]
     },
     "metadata": {},
     "output_type": "display_data"
    }
   ],
   "source": [
    "plt.figure(figsize=(2,5))\n",
    "\n",
    "red_circle = dict(markerfacecolor='red', marker='o')\n",
    "mean_shape = dict(markerfacecolor='green', marker='*', markeredgecolor='green')\n",
    "\n",
    "plt.boxplot(x=df['price'], flierprops=red_circle, showmeans=True, meanprops=mean_shape)\n",
    "plt.ylabel('Precio del diamante')\n",
    "plt.title('Boxplot del precio')\n",
    "\n",
    "plt.show()"
   ]
  },
  {
   "cell_type": "code",
   "execution_count": null,
   "id": "3f85cd24",
   "metadata": {},
   "outputs": [],
   "source": [
    "# https://towardsdatascience.com/creating-boxplots-of-well-log-data-using-matplotlib-in-python-34c3816e73f4 "
   ]
  },
  {
   "cell_type": "markdown",
   "id": "8fc3a87d",
   "metadata": {},
   "source": [
    "## Histograma del precio"
   ]
  },
  {
   "cell_type": "code",
   "execution_count": 51,
   "id": "d585e7b9",
   "metadata": {},
   "outputs": [
    {
     "data": {
      "image/png": "[encoded data removed]",
      "text/plain": [
       "<Figure size 640x480 with 1 Axes>"
      ]
     },
     "metadata": {},
     "output_type": "display_data"
    }
   ],
   "source": [
    "fig, ax = plt.subplots()\n",
    "ax.hist(df['price'], edgecolor='white')\n",
    "ax.axhline(df['price'].mean(), linestyle='--', color='red', label='Precio medio del diamante')\n",
    "ax.legend()\n",
    "\n",
    "plt.show()"
   ]
  },
  {
   "cell_type": "markdown",
   "id": "6f8b1933",
   "metadata": {},
   "source": [
    "## Qué vemos del boxplot/histogram del precio:\n",
    "- Existen gran cantidad de outsiders por encima del 100%.\n",
    "- Eso provoca que la media esté en el rango entre 50%-75%. \n",
    "- En el hist se observa cómo la mayor cantidad de diamantes está a precios más bajos, después va en descenso"
   ]
  },
  {
   "cell_type": "markdown",
   "id": "90774451",
   "metadata": {},
   "source": [
    "## Gráficos de variables categóricas"
   ]
  },
  {
   "cell_type": "code",
   "execution_count": 37,
   "id": "f2111b3e",
   "metadata": {},
   "outputs": [
    {
     "data": {
      "image/png": "[encoded data removed]",
      "text/plain": [
       "<Figure size 640x480 with 1 Axes>"
      ]
     },
     "metadata": {},
     "output_type": "display_data"
    }
   ],
   "source": [
    "df['cut'].value_counts().plot(kind='bar')\n",
    "plt.title('Cantidad de cortes del diamante')\n",
    "plt.xlabel('Cortes del diamante')\n",
    "plt.xticks(rotation=45)\n",
    "plt.ylabel('Cantidad')\n",
    "plt.show()\n"
   ]
  },
  {
   "cell_type": "code",
   "execution_count": null,
   "id": "75730856",
   "metadata": {},
   "outputs": [],
   "source": [
    "# Se observa que Ideal es la categoría que más cantidad de diamantes tiene, mientras que fair es la que menos. "
   ]
  },
  {
   "cell_type": "code",
   "execution_count": 79,
   "id": "a9370053",
   "metadata": {},
   "outputs": [
    {
     "data": {
      "image/png": "[encoded data removed]",
      "text/plain": [
       "<Figure size 500x1000 with 1 Axes>"
      ]
     },
     "metadata": {},
     "output_type": "display_data"
    }
   ],
   "source": [
    "sns.catplot(x='cut', y='price', data=df, height=10, aspect=0.5)\n",
    "\n",
    "plt.show()"
   ]
  },
  {
   "cell_type": "code",
   "execution_count": null,
   "id": "117cc98b",
   "metadata": {},
   "outputs": [],
   "source": [
    "# Se visualiza cómo el corte fair aparece en menor medida según aumenta el precio. Similar le ocurre a good. \n",
    "# Premim e ideal son los que más se mantienen aglutinados tanto al inicio de precios más bajos como al final "
   ]
  },
  {
   "cell_type": "markdown",
   "id": "ddc4be6a",
   "metadata": {},
   "source": [
    "## Scatterplot para intuir si existe relación lineal o monotónica entre precio y quilates"
   ]
  },
  {
   "cell_type": "code",
   "execution_count": 7,
   "id": "50b44928",
   "metadata": {},
   "outputs": [
    {
     "data": {
      "image/png": "[encoded data removed]",
      "text/plain": [
       "<Figure size 900x400 with 1 Axes>"
      ]
     },
     "metadata": {},
     "output_type": "display_data"
    }
   ],
   "source": [
    "fig, ax = plt.subplots(1, 1, figsize=(9,4))\n",
    "ax.scatter(x=df.price, y=df.carat, alpha= 0.8)\n",
    "ax.set_xlabel('Price')\n",
    "ax.set_ylabel('Carat');\n",
    "plt.show()"
   ]
  },
  {
   "cell_type": "markdown",
   "id": "13238156",
   "metadata": {},
   "source": [
    "# Matriz de correlaciones"
   ]
  },
  {
   "cell_type": "code",
   "execution_count": 9,
   "id": "5ee73689",
   "metadata": {},
   "outputs": [],
   "source": [
    "# Variables numéricas\n",
    "\n",
    "df_catnum = df.select_dtypes(include=['float64', 'int'])"
   ]
  },
  {
   "cell_type": "code",
   "execution_count": 10,
   "id": "c812ca2d",
   "metadata": {},
   "outputs": [
    {
     "data": {
      "text/html": [
       "<div>\n",
       "<style scoped>\n",
       "    .dataframe tbody tr th:only-of-type {\n",
       "        vertical-align: middle;\n",
       "    }\n",
       "\n",
       "    .dataframe tbody tr th {\n",
       "        vertical-align: top;\n",
       "    }\n",
       "\n",
       "    .dataframe thead th {\n",
       "        text-align: right;\n",
       "    }\n",
       "</style>\n",
       "<table border=\"1\" class=\"dataframe\">\n",
       "  <thead>\n",
       "    <tr style=\"text-align: right;\">\n",
       "      <th></th>\n",
       "      <th>Unnamed: 0</th>\n",
       "      <th>depth</th>\n",
       "      <th>table</th>\n",
       "      <th>x</th>\n",
       "      <th>y</th>\n",
       "      <th>z</th>\n",
       "      <th>price</th>\n",
       "      <th>carat</th>\n",
       "    </tr>\n",
       "  </thead>\n",
       "  <tbody>\n",
       "    <tr>\n",
       "      <th>Unnamed: 0</th>\n",
       "      <td>1.000000</td>\n",
       "      <td>0.055464</td>\n",
       "      <td>-0.236607</td>\n",
       "      <td>-0.141181</td>\n",
       "      <td>-0.120984</td>\n",
       "      <td>-0.122481</td>\n",
       "      <td>-0.088331</td>\n",
       "      <td>-0.135904</td>\n",
       "    </tr>\n",
       "    <tr>\n",
       "      <th>depth</th>\n",
       "      <td>0.055464</td>\n",
       "      <td>1.000000</td>\n",
       "      <td>-0.293114</td>\n",
       "      <td>-0.026348</td>\n",
       "      <td>-0.030966</td>\n",
       "      <td>0.094655</td>\n",
       "      <td>-0.014864</td>\n",
       "      <td>0.026528</td>\n",
       "    </tr>\n",
       "    <tr>\n",
       "      <th>table</th>\n",
       "      <td>-0.236607</td>\n",
       "      <td>-0.293114</td>\n",
       "      <td>1.000000</td>\n",
       "      <td>0.196059</td>\n",
       "      <td>0.184673</td>\n",
       "      <td>0.155189</td>\n",
       "      <td>0.130111</td>\n",
       "      <td>0.183392</td>\n",
       "    </tr>\n",
       "    <tr>\n",
       "      <th>x</th>\n",
       "      <td>-0.141181</td>\n",
       "      <td>-0.026348</td>\n",
       "      <td>0.196059</td>\n",
       "      <td>1.000000</td>\n",
       "      <td>0.973712</td>\n",
       "      <td>0.984876</td>\n",
       "      <td>0.885848</td>\n",
       "      <td>0.975688</td>\n",
       "    </tr>\n",
       "    <tr>\n",
       "      <th>y</th>\n",
       "      <td>-0.120984</td>\n",
       "      <td>-0.030966</td>\n",
       "      <td>0.184673</td>\n",
       "      <td>0.973712</td>\n",
       "      <td>1.000000</td>\n",
       "      <td>0.964828</td>\n",
       "      <td>0.866163</td>\n",
       "      <td>0.951667</td>\n",
       "    </tr>\n",
       "    <tr>\n",
       "      <th>z</th>\n",
       "      <td>-0.122481</td>\n",
       "      <td>0.094655</td>\n",
       "      <td>0.155189</td>\n",
       "      <td>0.984876</td>\n",
       "      <td>0.964828</td>\n",
       "      <td>1.000000</td>\n",
       "      <td>0.874500</td>\n",
       "      <td>0.967570</td>\n",
       "    </tr>\n",
       "    <tr>\n",
       "      <th>price</th>\n",
       "      <td>-0.088331</td>\n",
       "      <td>-0.014864</td>\n",
       "      <td>0.130111</td>\n",
       "      <td>0.885848</td>\n",
       "      <td>0.866163</td>\n",
       "      <td>0.874500</td>\n",
       "      <td>1.000000</td>\n",
       "      <td>0.921935</td>\n",
       "    </tr>\n",
       "    <tr>\n",
       "      <th>carat</th>\n",
       "      <td>-0.135904</td>\n",
       "      <td>0.026528</td>\n",
       "      <td>0.183392</td>\n",
       "      <td>0.975688</td>\n",
       "      <td>0.951667</td>\n",
       "      <td>0.967570</td>\n",
       "      <td>0.921935</td>\n",
       "      <td>1.000000</td>\n",
       "    </tr>\n",
       "  </tbody>\n",
       "</table>\n",
       "</div>"
      ],
      "text/plain": [
       "            Unnamed: 0     depth     table         x         y         z  \\\n",
       "Unnamed: 0    1.000000  0.055464 -0.236607 -0.141181 -0.120984 -0.122481   \n",
       "depth         0.055464  1.000000 -0.293114 -0.026348 -0.030966  0.094655   \n",
       "table        -0.236607 -0.293114  1.000000  0.196059  0.184673  0.155189   \n",
       "x            -0.141181 -0.026348  0.196059  1.000000  0.973712  0.984876   \n",
       "y            -0.120984 -0.030966  0.184673  0.973712  1.000000  0.964828   \n",
       "z            -0.122481  0.094655  0.155189  0.984876  0.964828  1.000000   \n",
       "price        -0.088331 -0.014864  0.130111  0.885848  0.866163  0.874500   \n",
       "carat        -0.135904  0.026528  0.183392  0.975688  0.951667  0.967570   \n",
       "\n",
       "               price     carat  \n",
       "Unnamed: 0 -0.088331 -0.135904  \n",
       "depth      -0.014864  0.026528  \n",
       "table       0.130111  0.183392  \n",
       "x           0.885848  0.975688  \n",
       "y           0.866163  0.951667  \n",
       "z           0.874500  0.967570  \n",
       "price       1.000000  0.921935  \n",
       "carat       0.921935  1.000000  "
      ]
     },
     "execution_count": 10,
     "metadata": {},
     "output_type": "execute_result"
    }
   ],
   "source": [
    "# Matriz de correlación\n",
    "\n",
    "corr_matrix = df_catnum.corr(method='pearson')\n",
    "corr_matrix"
   ]
  },
  {
   "cell_type": "code",
   "execution_count": 16,
   "id": "172584a4",
   "metadata": {},
   "outputs": [
    {
     "data": {
      "image/png": "[encoded data removed]",
      "text/plain": [
       "<Figure size 500x500 with 2 Axes>"
      ]
     },
     "metadata": {},
     "output_type": "display_data"
    }
   ],
   "source": [
    "# Heatmap matriz de correlaciones\n",
    "\n",
    "fig, ax = plt.subplots(nrows=1, ncols=1, figsize=(5, 5))\n",
    "\n",
    "sns.heatmap(\n",
    "    corr_matrix,\n",
    "    annot     = True,\n",
    "    cbar      = True,\n",
    "    annot_kws = {\"size\": 8},\n",
    "    vmin      = -1,\n",
    "    vmax      = 1,\n",
    "    center    = 0,\n",
    "    cmap      = sns.diverging_palette(20, 220, n=200),\n",
    "    square    = True,\n",
    "    ax        = ax\n",
    ")\n",
    "\n",
    "ax.set_xticklabels(\n",
    "    ax.get_xticklabels(),\n",
    "    rotation = 45,\n",
    "    horizontalalignment = 'right',\n",
    ")\n",
    "\n",
    "ax.tick_params(labelsize = 10)"
   ]
  },
  {
   "cell_type": "code",
   "execution_count": null,
   "id": "6e519775",
   "metadata": {},
   "outputs": [],
   "source": [
    "# Observamos que las variables más relacionadas son las de dimension x,y,z con precio y quilates. \n",
    "# Parece que las variables depth y table son más menos relacionadas. "
   ]
  },
  {
   "cell_type": "markdown",
   "id": "c74175f5",
   "metadata": {},
   "source": [
    "## Descubrir qué ciudades tienen los diamantes de mayor quilate"
   ]
  },
  {
   "cell_type": "code",
   "execution_count": 23,
   "id": "82f85679",
   "metadata": {},
   "outputs": [
    {
     "data": {
      "image/png": "[encoded data removed]",
      "text/plain": [
       "<Figure size 1200x400 with 1 Axes>"
      ]
     },
     "metadata": {},
     "output_type": "display_data"
    }
   ],
   "source": [
    "plt.figure(figsize=(12, 4))\n",
    "sns.barplot(x='city', y='carat', data=df, errorbar=None, estimator=max, palette='Set2')\n",
    "\n",
    "plt.xlabel('Ciudad')\n",
    "plt.ylabel('Quilates más altos')\n",
    "plt.title('Diamantes de más quilates por ciudad')\n",
    "plt.xticks(rotation=45, ha='right')\n",
    "\n",
    "plt.show()"
   ]
  },
  {
   "cell_type": "code",
   "execution_count": 27,
   "id": "959bb65b",
   "metadata": {},
   "outputs": [
    {
     "data": {
      "image/png": "[encoded data removed]",
      "text/plain": [
       "<Figure size 1200x400 with 1 Axes>"
      ]
     },
     "metadata": {},
     "output_type": "display_data"
    }
   ],
   "source": [
    "plt.figure(figsize=(12, 4))\n",
    "sns.barplot(x='city', y='carat', data=df, errorbar=None, estimator=min, palette='Set2')\n",
    "\n",
    "plt.xlabel('Ciudad')\n",
    "plt.ylabel('Quilates más bajos')\n",
    "plt.title('Diamantes de menos quilates por ciudad')\n",
    "plt.xticks(rotation=45, ha='right')\n",
    "\n",
    "plt.show()"
   ]
  },
  {
   "cell_type": "code",
   "execution_count": 28,
   "id": "3bfd0bd9",
   "metadata": {},
   "outputs": [],
   "source": [
    "# Surat, Zurich y Kimberly como ciudades con los quilates más altos\n",
    "# London, Zurich y Las Vegas/Luxemburg como ciudades con los quilates más bajos"
   ]
  },
  {
   "cell_type": "code",
   "execution_count": null,
   "id": "05907210",
   "metadata": {},
   "outputs": [],
   "source": []
  }
 ],
 "metadata": {
  "kernelspec": {
   "display_name": "Python m2_env",
   "language": "python",
   "name": "m2_env"
  },
  "language_info": {
   "codemirror_mode": {
    "name": "ipython",
    "version": 3
   },
   "file_extension": ".py",
   "mimetype": "text/x-python",
   "name": "python",
   "nbconvert_exporter": "python",
   "pygments_lexer": "ipython3",
   "version": "3.8.18"
  }
 },
 "nbformat": 4,
 "nbformat_minor": 5
}
